{
 "cells": [
  {
   "cell_type": "markdown",
   "metadata": {},
   "source": [
    "### 셀레니움 환경설정"
   ]
  },
  {
   "cell_type": "code",
   "execution_count": null,
   "metadata": {},
   "outputs": [],
   "source": [
    "!pip install webdriver_manager"
   ]
  },
  {
   "cell_type": "code",
   "execution_count": null,
   "metadata": {},
   "outputs": [],
   "source": [
    "!pip install webdriver-auto-update"
   ]
  },
  {
   "cell_type": "code",
   "execution_count": null,
   "metadata": {},
   "outputs": [],
   "source": [
    "!pip install selenium"
   ]
  },
  {
   "cell_type": "markdown",
   "metadata": {},
   "source": [
    "### selenium 버전 확인"
   ]
  },
  {
   "cell_type": "code",
   "execution_count": null,
   "metadata": {},
   "outputs": [],
   "source": [
    "import selenium\n",
    "selenium.__version__"
   ]
  },
  {
   "cell_type": "markdown",
   "metadata": {},
   "source": [
    "### 셀레니움을 활용한 웹크롤링"
   ]
  },
  {
   "cell_type": "code",
   "execution_count": null,
   "metadata": {},
   "outputs": [],
   "source": [
    "from selenium import webdriver  # 웹수집 자동화를 위한 크롬 드라이버 호출\n",
    "from selenium.webdriver.common.keys import Keys\n",
    "from webdriver_manager.chrome import ChromeDriverManager #추가한 코드\n",
    "from selenium.webdriver.common.by import By #추가한 코드\n",
    "import time, os\n",
    "import urllib.request\n",
    "\n",
    "#driver = webdriver.Chrome('c:\\\\RPY\\\\chromedriver.exe')  # 크롬드라이버 위치 (크롬버전확인)\n",
    "\n",
    "#시크릿 모드가는 창 \n",
    "chrome_options = webdriver.ChromeOptions()  # webdriver의 크롬 옵션 객체 생성\n",
    "chrome_options.add_argument(\"--incognito\")  # 크롬 옵션에 시크릿 모드 추가\n",
    "driver = webdriver.Chrome(\"C:/RPY/chromedriver.exe\", options=chrome_options) # 위에서 만든 크롬 옵션을 적용하여 크롬창 생성\n",
    "\n",
    "driver.get(\"https://www.google.co.kr/imghp?hl=ko&tab=wi&authuser=0&ogbl\")\n",
    "\n",
    "#로그인하는 창 없애주는 새로고침\n",
    "driver.refresh()\n",
    "\n",
    "#elem = driver.find_element_by_name(\"q\") 수정 전\n",
    "elem = driver.find_element(By.NAME, \"q\") #수정 후\n",
    "\n",
    "elem.send_keys(\"황금알 낳는 거위를 찾아서\")\n",
    "elem.send_keys(Keys.RETURN)\n",
    "\n",
    "os.makedirs('황금알 낳는 거위를 찾아서', exist_ok=True)\n",
    "\n",
    "SCROLL_PAUSE_TIME = 1\n",
    "# Get scroll height\n",
    "last_height = driver.execute_script(\"return document.body.scrollHeight\")\n",
    "while True:\n",
    "    # Scroll down to bottom\n",
    "    driver.execute_script(\"window.scrollTo(0, document.body.scrollHeight);\")\n",
    "    # Wait to load page\n",
    "    time.sleep(SCROLL_PAUSE_TIME)\n",
    "    # Calculate new scroll height and compare with last scroll height\n",
    "    new_height = driver.execute_script(\"return document.body.scrollHeight\")\n",
    "    if new_height == last_height:\n",
    "        try:\n",
    "            #수정 전 코드\n",
    "            #driver.find_element_by_css_selector(\".mye4qd\").click()\n",
    "            \n",
    "            #수정 후 코드\n",
    "            driver.find_element(By.CSS_SELECTOR, '.mye4qd').click()\n",
    "        except:\n",
    "            break\n",
    "    last_height = new_height\n",
    "\n",
    "#images = driver.find_elements_by_css_selector(\".rg_i.Q4LuWd\")#수정 전\n",
    "images = driver.find_elements(By.CSS_SELECTOR, '.rg_i.Q4LuWd')#수정 후\n",
    "\n",
    "count = 1\n",
    "for image in images:\n",
    "    try:\n",
    "        image.click()\n",
    "        time.sleep(2)\n",
    "        \n",
    "        #imgUrl = driver.find_element_by_xpath('/html/body/div[2]/c-wiz/div[3]/div[2]/div[3]/div/div/div[3]/div[2]/c-wiz/div[1]/div[1]/div/div[2]/a/img').get_attribute(\"src\") 수정\n",
    "        \n",
    "        imgUrl = driver.find_element(By.CSS_SELECTOR, \".n3VNCb.KAlRDb\").get_attribute(\"src\")\n",
    "        \n",
    "        opener=urllib.request.build_opener()\n",
    "        opener.addheaders=[('User-Agent','Mozilla/5.0 (Windows NT 6.1; WOW64) AppleWebKit/537.36 (KHTML, like Gecko) Chrome/36.0.1941.0 Safari/537.36')]\n",
    "        urllib.request.install_opener(opener)\n",
    "        urllib.request.urlretrieve(imgUrl, '황금알 낳는 거위를 찾아서/'+ str(count) + \".jpg\")\n",
    "        count = count + 1\n",
    "    except:\n",
    "        pass\n",
    "\n",
    "driver.close()"
   ]
  },
  {
   "cell_type": "code",
   "execution_count": null,
   "metadata": {},
   "outputs": [],
   "source": [
    "from selenium import webdriver  # 웹수집 자동화를 위한 크롬 드라이버 호출\n",
    "from selenium.webdriver.common.keys import Keys\n",
    "from webdriver_manager.chrome import ChromeDriverManager #추가한 코드\n",
    "from selenium.webdriver.common.by import By #추가한 코드\n",
    "import time, os\n",
    "import urllib.request\n",
    "\n",
    "#driver = webdriver.Chrome('c:\\\\RPY\\\\chromedriver.exe')  # 크롬드라이버 위치 (크롬버전확인)\n",
    "\n",
    "#시크릿 모드가는 창 \n",
    "chrome_options = webdriver.ChromeOptions()  # webdriver의 크롬 옵션 객체 생성\n",
    "chrome_options.add_argument(\"--incognito\")  # 크롬 옵션에 시크릿 모드 추가\n",
    "driver = webdriver.Chrome(\"C:/RPY/chromedriver.exe\", options=chrome_options) # 위에서 만든 크롬 옵션을 적용하여 크롬창 생성\n",
    "\n",
    "driver.get(\"https://www.google.co.kr/imghp?hl=ko&tab=wi&authuser=0&ogbl\")\n",
    "\n",
    "#로그인하는 창 없애주는 새로고침\n",
    "driver.refresh()\n",
    "\n",
    "#elem = driver.find_element_by_name(\"q\") 수정 전\n",
    "elem = driver.find_element(By.NAME, \"q\") #수정 후\n",
    "\n",
    "elem.send_keys(\"당신을 응원합니다 꽃길만 걷기를\")\n",
    "elem.send_keys(Keys.RETURN)\n",
    "\n",
    "os.makedirs('당신을 응원합니다 꽃길만 걷기를', exist_ok=True)\n",
    "\n",
    "SCROLL_PAUSE_TIME = 1\n",
    "# Get scroll height\n",
    "last_height = driver.execute_script(\"return document.body.scrollHeight\")\n",
    "while True:\n",
    "    # Scroll down to bottom\n",
    "    driver.execute_script(\"window.scrollTo(0, document.body.scrollHeight);\")\n",
    "    # Wait to load page\n",
    "    time.sleep(SCROLL_PAUSE_TIME)\n",
    "    # Calculate new scroll height and compare with last scroll height\n",
    "    new_height = driver.execute_script(\"return document.body.scrollHeight\")\n",
    "    if new_height == last_height:\n",
    "        try:\n",
    "            #수정 전 코드\n",
    "            #driver.find_element_by_css_selector(\".mye4qd\").click()\n",
    "            \n",
    "            #수정 후 코드\n",
    "            driver.find_element(By.CSS_SELECTOR, '.mye4qd').click()\n",
    "        except:\n",
    "            break\n",
    "    last_height = new_height\n",
    "\n",
    "#images = driver.find_elements_by_css_selector(\".rg_i.Q4LuWd\")#수정 전\n",
    "images = driver.find_elements(By.CSS_SELECTOR, '.rg_i.Q4LuWd')#수정 후\n",
    "\n",
    "count = 1\n",
    "for image in images:\n",
    "    try:\n",
    "        image.click()\n",
    "        time.sleep(2)\n",
    "        \n",
    "        #imgUrl = driver.find_element_by_xpath('/html/body/div[2]/c-wiz/div[3]/div[2]/div[3]/div/div/div[3]/div[2]/c-wiz/div[1]/div[1]/div/div[2]/a/img').get_attribute(\"src\") 수정\n",
    "        \n",
    "        imgUrl = driver.find_element(By.CSS_SELECTOR, \".n3VNCb.KAlRDb\").get_attribute(\"src\")\n",
    "        \n",
    "        opener=urllib.request.build_opener()\n",
    "        opener.addheaders=[('User-Agent','Mozilla/5.0 (Windows NT 6.1; WOW64) AppleWebKit/537.36 (KHTML, like Gecko) Chrome/36.0.1941.0 Safari/537.36')]\n",
    "        urllib.request.install_opener(opener)\n",
    "        urllib.request.urlretrieve(imgUrl, '당신을 응원합니다 꽃길만 걷기를/'+ str(count) + \".jpg\")\n",
    "        count = count + 1\n",
    "    except:\n",
    "        pass\n",
    "\n",
    "driver.close()"
   ]
  }
 ],
 "metadata": {
  "kernelspec": {
   "display_name": "Python 3 (ipykernel)",
   "language": "python",
   "name": "python3"
  },
  "language_info": {
   "codemirror_mode": {
    "name": "ipython",
    "version": 3
   },
   "file_extension": ".py",
   "mimetype": "text/x-python",
   "name": "python",
   "nbconvert_exporter": "python",
   "pygments_lexer": "ipython3",
   "version": "3.9.13"
  }
 },
 "nbformat": 4,
 "nbformat_minor": 4
}
